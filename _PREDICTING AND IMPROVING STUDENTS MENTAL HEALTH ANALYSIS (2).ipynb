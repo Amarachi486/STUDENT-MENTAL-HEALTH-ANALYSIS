{
 "cells": [
  {
   "cell_type": "markdown",
   "id": "f7d8eee1",
   "metadata": {},
   "source": [
    "I explored the relationship between academic factors and mental health among university students using Python and statistical tests."
   ]
  },
  {
   "cell_type": "markdown",
   "id": "c05dee5b",
   "metadata": {},
   "source": [
    "<!--IMPORTING THE DATASET  -->\n",
    "PREDICTING AND IMPROVING STUDENTS MENTAL HEALTH ANALYSIS"
   ]
  },
  {
   "cell_type": "code",
   "execution_count": 1,
   "id": "869fbae5",
   "metadata": {},
   "outputs": [],
   "source": [
    "import pandas as pd"
   ]
  },
  {
   "cell_type": "code",
   "execution_count": 2,
   "id": "8f5cca70",
   "metadata": {},
   "outputs": [
    {
     "data": {
      "text/html": [
       "<div>\n",
       "<style scoped>\n",
       "    .dataframe tbody tr th:only-of-type {\n",
       "        vertical-align: middle;\n",
       "    }\n",
       "\n",
       "    .dataframe tbody tr th {\n",
       "        vertical-align: top;\n",
       "    }\n",
       "\n",
       "    .dataframe thead th {\n",
       "        text-align: right;\n",
       "    }\n",
       "</style>\n",
       "<table border=\"1\" class=\"dataframe\">\n",
       "  <thead>\n",
       "    <tr style=\"text-align: right;\">\n",
       "      <th></th>\n",
       "      <th>Timestamp</th>\n",
       "      <th>Choose your gender</th>\n",
       "      <th>Age</th>\n",
       "      <th>What is your course?</th>\n",
       "      <th>Your current year of Study</th>\n",
       "      <th>What is your CGPA?</th>\n",
       "      <th>Marital status</th>\n",
       "      <th>Do you have Depression?</th>\n",
       "      <th>Do you have Anxiety?</th>\n",
       "      <th>Do you have Panic attack?</th>\n",
       "      <th>Did you seek any specialist for a treatment?</th>\n",
       "    </tr>\n",
       "  </thead>\n",
       "  <tbody>\n",
       "    <tr>\n",
       "      <th>0</th>\n",
       "      <td>8/7/2020 12:02</td>\n",
       "      <td>Female</td>\n",
       "      <td>18.0</td>\n",
       "      <td>Engineering</td>\n",
       "      <td>year 1</td>\n",
       "      <td>3.00 - 3.49</td>\n",
       "      <td>No</td>\n",
       "      <td>Yes</td>\n",
       "      <td>No</td>\n",
       "      <td>Yes</td>\n",
       "      <td>No</td>\n",
       "    </tr>\n",
       "    <tr>\n",
       "      <th>1</th>\n",
       "      <td>8/7/2020 12:04</td>\n",
       "      <td>Male</td>\n",
       "      <td>21.0</td>\n",
       "      <td>Islamic education</td>\n",
       "      <td>year 2</td>\n",
       "      <td>3.00 - 3.49</td>\n",
       "      <td>No</td>\n",
       "      <td>No</td>\n",
       "      <td>Yes</td>\n",
       "      <td>No</td>\n",
       "      <td>No</td>\n",
       "    </tr>\n",
       "    <tr>\n",
       "      <th>2</th>\n",
       "      <td>8/7/2020 12:05</td>\n",
       "      <td>Male</td>\n",
       "      <td>19.0</td>\n",
       "      <td>BIT</td>\n",
       "      <td>Year 1</td>\n",
       "      <td>3.00 - 3.49</td>\n",
       "      <td>No</td>\n",
       "      <td>Yes</td>\n",
       "      <td>Yes</td>\n",
       "      <td>Yes</td>\n",
       "      <td>No</td>\n",
       "    </tr>\n",
       "    <tr>\n",
       "      <th>3</th>\n",
       "      <td>8/7/2020 12:06</td>\n",
       "      <td>Female</td>\n",
       "      <td>22.0</td>\n",
       "      <td>Laws</td>\n",
       "      <td>year 3</td>\n",
       "      <td>3.00 - 3.49</td>\n",
       "      <td>Yes</td>\n",
       "      <td>Yes</td>\n",
       "      <td>No</td>\n",
       "      <td>No</td>\n",
       "      <td>No</td>\n",
       "    </tr>\n",
       "    <tr>\n",
       "      <th>4</th>\n",
       "      <td>8/7/2020 12:13</td>\n",
       "      <td>Male</td>\n",
       "      <td>23.0</td>\n",
       "      <td>Mathemathics</td>\n",
       "      <td>year 4</td>\n",
       "      <td>3.00 - 3.49</td>\n",
       "      <td>No</td>\n",
       "      <td>No</td>\n",
       "      <td>No</td>\n",
       "      <td>No</td>\n",
       "      <td>No</td>\n",
       "    </tr>\n",
       "  </tbody>\n",
       "</table>\n",
       "</div>"
      ],
      "text/plain": [
       "        Timestamp Choose your gender   Age What is your course?  \\\n",
       "0  8/7/2020 12:02             Female  18.0          Engineering   \n",
       "1  8/7/2020 12:04               Male  21.0    Islamic education   \n",
       "2  8/7/2020 12:05               Male  19.0                  BIT   \n",
       "3  8/7/2020 12:06             Female  22.0                 Laws   \n",
       "4  8/7/2020 12:13               Male  23.0         Mathemathics   \n",
       "\n",
       "  Your current year of Study What is your CGPA? Marital status  \\\n",
       "0                     year 1        3.00 - 3.49             No   \n",
       "1                     year 2        3.00 - 3.49             No   \n",
       "2                     Year 1        3.00 - 3.49             No   \n",
       "3                     year 3        3.00 - 3.49            Yes   \n",
       "4                     year 4        3.00 - 3.49             No   \n",
       "\n",
       "  Do you have Depression? Do you have Anxiety? Do you have Panic attack?  \\\n",
       "0                     Yes                   No                       Yes   \n",
       "1                      No                  Yes                        No   \n",
       "2                     Yes                  Yes                       Yes   \n",
       "3                     Yes                   No                        No   \n",
       "4                      No                   No                        No   \n",
       "\n",
       "  Did you seek any specialist for a treatment?  \n",
       "0                                           No  \n",
       "1                                           No  \n",
       "2                                           No  \n",
       "3                                           No  \n",
       "4                                           No  "
      ]
     },
     "execution_count": 2,
     "metadata": {},
     "output_type": "execute_result"
    }
   ],
   "source": [
    "mental_stud=pd.read_csv('Student Mental health.csv') \n",
    "mental_stud.head(5)"
   ]
  },
  {
   "cell_type": "markdown",
   "id": "b31ee041",
   "metadata": {},
   "source": [
    "This code imports the dataset into a pandas DataFrame named mental_stud and displays the first five records to understand its structure."
   ]
  },
  {
   "cell_type": "markdown",
   "id": "008a0801",
   "metadata": {},
   "source": [
    "<!-- CHECKING AND FILLING MISSING VALUES  -->\n",
    "Before performing any analysis, it’s important to check if the dataset contains missing or null values.  \n",
    "Missing data can affect the accuracy of results, so identifying and handling them early is essential."
   ]
  },
  {
   "cell_type": "code",
   "execution_count": 3,
   "id": "7cde1d88",
   "metadata": {},
   "outputs": [
    {
     "data": {
      "text/plain": [
       "Timestamp                                       0\n",
       "Choose your gender                              0\n",
       "Age                                             1\n",
       "What is your course?                            0\n",
       "Your current year of Study                      0\n",
       "What is your CGPA?                              0\n",
       "Marital status                                  0\n",
       "Do you have Depression?                         0\n",
       "Do you have Anxiety?                            0\n",
       "Do you have Panic attack?                       0\n",
       "Did you seek any specialist for a treatment?    0\n",
       "dtype: int64"
      ]
     },
     "execution_count": 3,
     "metadata": {},
     "output_type": "execute_result"
    }
   ],
   "source": [
    "mental_stud.isnull().sum()"
   ]
  },
  {
   "cell_type": "code",
   "execution_count": 4,
   "id": "27bd414b",
   "metadata": {},
   "outputs": [],
   "source": [
    "mental_stud.dropna(inplace=True)"
   ]
  },
  {
   "cell_type": "code",
   "execution_count": 5,
   "id": "db5e7fb7",
   "metadata": {},
   "outputs": [
    {
     "data": {
      "text/plain": [
       "Timestamp                                       0\n",
       "Choose your gender                              0\n",
       "Age                                             0\n",
       "What is your course?                            0\n",
       "Your current year of Study                      0\n",
       "What is your CGPA?                              0\n",
       "Marital status                                  0\n",
       "Do you have Depression?                         0\n",
       "Do you have Anxiety?                            0\n",
       "Do you have Panic attack?                       0\n",
       "Did you seek any specialist for a treatment?    0\n",
       "dtype: int64"
      ]
     },
     "execution_count": 5,
     "metadata": {},
     "output_type": "execute_result"
    }
   ],
   "source": [
    "mental_stud.isnull().sum()"
   ]
  },
  {
   "cell_type": "markdown",
   "id": "99b6325b",
   "metadata": {},
   "source": [
    "<!-- GENDER DISTRIBUTION IN THE DATASET -->\n",
    "This analysis aims to understand how academic performance, gender, and study level influence students’ mental health — helping universities develop better support programs"
   ]
  },
  {
   "cell_type": "code",
   "execution_count": 6,
   "id": "168555a9",
   "metadata": {},
   "outputs": [
    {
     "data": {
      "text/plain": [
       "Choose your gender\n",
       "Female    75\n",
       "Male      25\n",
       "Name: count, dtype: int64"
      ]
     },
     "execution_count": 6,
     "metadata": {},
     "output_type": "execute_result"
    }
   ],
   "source": [
    "# Gender distribution in the dataset\n",
    "gender_count= mental_stud['Choose your gender'].value_counts()\n",
    "gender_count\n"
   ]
  },
  {
   "cell_type": "code",
   "execution_count": 7,
   "id": "ddbfef06",
   "metadata": {},
   "outputs": [],
   "source": [
    "import matplotlib.pyplot as plt"
   ]
  },
  {
   "cell_type": "code",
   "execution_count": 8,
   "id": "5cfdc2b1",
   "metadata": {},
   "outputs": [
    {
     "data": {
      "image/png": "[encoded data removed]",
      "text/plain": [
       "<Figure size 640x480 with 1 Axes>"
      ]
     },
     "metadata": {},
     "output_type": "display_data"
    }
   ],
   "source": [
    "plt.pie(\n",
    "    gender_count, \n",
    "    labels=gender_count.index, \n",
    "    colors=['red', 'blue'], \n",
    "    autopct='%1.1f%%', \n",
    "    explode=(0, 0.05)\n",
    ")\n",
    "plt.title('Gender Distribution')\n",
    "plt.show()"
   ]
  },
  {
   "cell_type": "markdown",
   "id": "365ab853",
   "metadata": {},
   "source": [
    "<!-- AVERAGE CGPA OF ALL STUDENTS  -->\n",
    "The CGPA column in the dataset contains ranges such as `\"3.00 - 3.49\"`, which makes it difficult to compute numerical statistics directly.  \n",
    "To solve this, we clean the column by:\n",
    "1. Removing extra spaces.  \n",
    "2. Converting CGPA ranges into their **midpoint values** (e.g., `3.00 - 3.49 → 3.25`).  \n",
    "3. Creating a new column called `CGPA_numeric` that holds these numeric values.  \n",
    "\n",
    "After cleaning, we compute the **average CGPA** of all students."
   ]
  },
  {
   "cell_type": "code",
   "execution_count": 9,
   "id": "7703ff5d",
   "metadata": {},
   "outputs": [
    {
     "name": "stdout",
     "output_type": "stream",
     "text": [
      "Average CGPA: 3.38\n"
     ]
    }
   ],
   "source": [
    "import numpy as np\n",
    "\n",
    "# Clean the CGPA column\n",
    "def convert_cgpa(value):\n",
    "    # remove spaces\n",
    "    value = str(value).strip()\n",
    "    # if it's a range (e.g. '3.00 - 3.49')\n",
    "    if '-' in value:\n",
    "        parts = value.split('-')\n",
    "        try:\n",
    "            low = float(parts[0])\n",
    "            high = float(parts[1])\n",
    "            return (low + high) / 2   # midpoint of the range\n",
    "        except:\n",
    "            return np.nan\n",
    "    else:\n",
    "        try:\n",
    "            return float(value)\n",
    "        except:\n",
    "            return np.nan\n",
    "\n",
    "mental_stud['CGPA_numeric'] = mental_stud['What is your CGPA?'].apply(convert_cgpa)\n",
    "\n",
    "# Now compute mean\n",
    "average_cgpa = mental_stud['CGPA_numeric'].mean()\n",
    "print(\"Average CGPA:\", round(average_cgpa, 2))\n"
   ]
  },
  {
   "cell_type": "markdown",
   "id": "9aa2e419",
   "metadata": {},
   "source": [
    "<!--HOW MANY STUDENTS REPORTED HAVING DEPRESSION, ANXIETY OR PANIC ATTACKS  -->\n",
    "In this step, we analyze how many students reported experiencing depression, anxiety, or panic attacks.  \n",
    "We count the number of \"Yes\" responses in each category and then visualize the results with a pie chart \n",
    "to show their distribution clearly.\n"
   ]
  },
  {
   "cell_type": "code",
   "execution_count": 10,
   "id": "9acf51f5",
   "metadata": {},
   "outputs": [
    {
     "name": "stdout",
     "output_type": "stream",
     "text": [
      "Depression: 35\n",
      "Anxiety: 34\n",
      "Panic attacks: 33\n"
     ]
    },
    {
     "data": {
      "image/png": "[encoded data removed]",
      "text/plain": [
       "<Figure size 640x480 with 1 Axes>"
      ]
     },
     "metadata": {},
     "output_type": "display_data"
    }
   ],
   "source": [
    "import matplotlib.pyplot as plt\n",
    "\n",
    "# Count 'Yes' responses\n",
    "depression_count = mental_stud['Do you have Depression?'].value_counts().get('Yes', 0)\n",
    "anxiety_count = mental_stud['Do you have Anxiety?'].value_counts().get('Yes', 0)\n",
    "panic_count = mental_stud['Do you have Panic attack?'].value_counts().get('Yes', 0)\n",
    "\n",
    "print('Depression:', depression_count)\n",
    "print('Anxiety:', anxiety_count)\n",
    "print('Panic attacks:', panic_count)\n",
    "\n",
    "# Values and labels\n",
    "values = [depression_count, anxiety_count, panic_count]\n",
    "labels = ['Depression', 'Anxiety', 'Panic Attacks']\n",
    "\n",
    "plt.pie(values, labels=labels, autopct='%1.1f%%', startangle=90)\n",
    "plt.title('Students with Mental Health Issues')\n",
    "plt.show()"
   ]
  },
  {
   "cell_type": "markdown",
   "id": "aa989eae",
   "metadata": {},
   "source": [
    "<!-- WHAT PERCENTAGE OF STUDENTS SOUGHT PROFESSIONAL HELP FOR MENTAL HEALTH ISSUES  -->\n",
    "In this analysis, we examine how many students sought specialist treatment for their mental health concerns. This helps us understand students’ willingness to reach out for professional support when facing challenges such as depression, anxiety, or panic attacks.\n",
    "\n",
    "The pie chart below visually represents the proportion of students who sought help versus those who did not."
   ]
  },
  {
   "cell_type": "code",
   "execution_count": 11,
   "id": "2c8bb997",
   "metadata": {},
   "outputs": [
    {
     "name": "stdout",
     "output_type": "stream",
     "text": [
      "Did you seek any specialist for a treatment?\n",
      "No     94\n",
      "Yes     6\n",
      "Name: count, dtype: int64\n"
     ]
    },
    {
     "data": {
      "image/png": "[encoded data removed]",
      "text/plain": [
       "<Figure size 640x480 with 1 Axes>"
      ]
     },
     "metadata": {},
     "output_type": "display_data"
    }
   ],
   "source": [
    "student_professional_help = mental_stud['Did you seek any specialist for a treatment?'].value_counts()\n",
    "print(student_professional_help)\n",
    "\n",
    "import matplotlib.pyplot as plt \n",
    "plt.pie(student_professional_help,\n",
    "       labels=student_professional_help.index,\n",
    "       colors=['green','blue'],\n",
    "       autopct='%1.1f%%',\n",
    "       )\n",
    "plt.title('PERCENTAGE OF STUDENT THAT SOUGHT PROFESSIONAL HELP ')\n",
    "plt.show()"
   ]
  },
  {
   "cell_type": "markdown",
   "id": "1a4e89ff",
   "metadata": {},
   "source": [
    "<!--CONVERTING AND MERGING YEARS ON THE DATASET  -->\n",
    "Before performing analysis on the Year of Study, it’s important to ensure consistency in the data.\n",
    "Here, we convert all entries in the Your current year of Study column to lowercase. This helps prevent issues caused by inconsistent capitalization (e.g., Year 1 vs year 1) when grouping or counting data."
   ]
  },
  {
   "cell_type": "code",
   "execution_count": 12,
   "id": "a487cd31",
   "metadata": {},
   "outputs": [],
   "source": [
    "mental_stud['Your current year of Study']= mental_stud['Your current year of Study'].str.lower()"
   ]
  },
  {
   "cell_type": "markdown",
   "id": "9d671a1d",
   "metadata": {},
   "source": [
    "<!-- THE YEAR REPORTED THE ISSUE TO A THERAPIST  -->\n",
    "In this step, we analyze which year of study has the highest number of students reporting mental health issues (depression, anxiety, or panic attacks).\n",
    "We filter the dataset to include only students who reported at least one of these conditions, then count the number of affected students in each academic year.\n",
    "\n",
    "The bar chart below visualizes the distribution of reported mental health issues across years of study."
   ]
  },
  {
   "cell_type": "code",
   "execution_count": 13,
   "id": "b9226cc2",
   "metadata": {},
   "outputs": [
    {
     "name": "stdout",
     "output_type": "stream",
     "text": [
      "Your current year of Study\n",
      "year 1    25\n",
      "year 2    19\n",
      "year 3    18\n",
      "year 4     2\n",
      "Name: count, dtype: int64\n"
     ]
    },
    {
     "data": {
      "image/png": "[encoded data removed]",
      "text/plain": [
       "<Figure size 640x480 with 1 Axes>"
      ]
     },
     "metadata": {},
     "output_type": "display_data"
    }
   ],
   "source": [
    "reported_issues = mental_stud[\n",
    "    (mental_stud['Do you have Depression?']=='Yes') |\n",
    "    (mental_stud['Do you have Anxiety?']=='Yes') |\n",
    "    (mental_stud['Do you have Panic attack?']=='Yes')\n",
    "]\n",
    "\n",
    "# Count how many in each year reported issues\n",
    "yearly_reported_counts = reported_issues['Your current year of Study'].value_counts()\n",
    "\n",
    "print(yearly_reported_counts)\n",
    "\n",
    "\n",
    "import matplotlib.pyplot as plt\n",
    "\n",
    "# Plot the bar chart\n",
    "plt.bar(yearly_reported_counts.index, yearly_reported_counts.values, color='green')\n",
    "plt.title('Reported Issues by Year of Study')\n",
    "plt.xlabel('Year of Study')\n",
    "plt.ylabel('Number of Students')\n",
    "plt.show()\n"
   ]
  },
  {
   "cell_type": "markdown",
   "id": "c33dc31d",
   "metadata": {},
   "source": [
    "Most students reporting mental health issues are in Year 1, followed by Year 2 and Year 3.\n",
    "\n",
    "Year 4 has the fewest reported cases, which could indicate either lower stress levels, underreporting, or a smaller population in the dataset."
   ]
  },
  {
   "cell_type": "markdown",
   "id": "6c440c15",
   "metadata": {},
   "source": [
    "<!--  HOW DOES DEPRESSION,ANXIETY OR PANIC ATTACKS AFFECT STUDENT'S CGPA -->\n",
    "To investigate whether a student’s CGPA is associated with reporting depression, anxiety, or panic attacks, we first convert the categorical responses (Yes/No) into numeric values (1/0).\n",
    "\n",
    "We then perform a Chi-square test of independence for each mental health condition. This statistical test helps determine whether there is a significant relationship between CGPA ranges and the occurrence of mental health issues."
   ]
  },
  {
   "cell_type": "code",
   "execution_count": 14,
   "id": "e5ccfd1e",
   "metadata": {},
   "outputs": [
    {
     "name": "stdout",
     "output_type": "stream",
     "text": [
      "  Mental Health Condition  Chi-square Value   p-value\n",
      "0              Depression         10.809576  0.055289\n",
      "1                 Anxiety          3.637144  0.602745\n",
      "2            Panic attack          8.913032  0.112584\n"
     ]
    }
   ],
   "source": [
    "mental_stud['Do you have Depression?']= mental_stud['Do you have Depression?'].map({'Yes':1,'No':0})\n",
    "mental_stud['Do you have Anxiety?']=mental_stud['Do you have Anxiety?'].map({'Yes':1,'No':0})\n",
    "mental_stud['Do you have Panic attack?']=mental_stud['Do you have Panic attack?'].map({'Yes':1,'No':0})\n",
    "\n",
    "import pandas as pd\n",
    "from scipy.stats import chi2_contingency\n",
    "\n",
    "# Create an empty list to store results\n",
    "results = []\n",
    "\n",
    "# Depression\n",
    "table = pd.crosstab(mental_stud['What is your CGPA?'], mental_stud['Do you have Depression?'])\n",
    "chi2, p, dof, expected = chi2_contingency(table)\n",
    "results.append(['Depression', chi2, p])\n",
    "\n",
    "# Anxiety\n",
    "table = pd.crosstab(mental_stud['What is your CGPA?'], mental_stud['Do you have Anxiety?'])\n",
    "chi2, p, dof, expected = chi2_contingency(table)\n",
    "results.append(['Anxiety', chi2, p])\n",
    "\n",
    "# Panic attack\n",
    "table = pd.crosstab(mental_stud['What is your CGPA?'], mental_stud['Do you have Panic attack?'])\n",
    "chi2, p, dof, expected = chi2_contingency(table)\n",
    "results.append(['Panic attack', chi2, p])\n",
    "\n",
    "# Convert results into a DataFrame for table display\n",
    "result_df = pd.DataFrame(results, columns=['Mental Health Condition', 'Chi-square Value', 'p-value'])\n",
    "print(result_df)\n"
   ]
  },
  {
   "cell_type": "markdown",
   "id": "f4d5aee3",
   "metadata": {},
   "source": [
    "Analysis of Chi-Square Test Results\n",
    "Mental Health Condition\tChi-square Value\tp-value\n",
    "Depression\t10.81\t0.0553\n",
    "Anxiety\t3.64\t0.6027\n",
    "Panic attack\t8.91\t0.1126\n",
    "\n",
    "Interpretation:\n",
    "\n",
    "Depression\n",
    "\n",
    "The p-value is 0.0553, slightly above the standard significance level of 0.05.\n",
    "\n",
    "This suggests there is no statistically significant association between CGPA and depression, although it’s close — there might be a weak relationship worth exploring further.\n",
    "\n",
    "Anxiety\n",
    "\n",
    "The p-value is 0.6027, much higher than 0.05.\n",
    "\n",
    "This indicates no significant relationship between CGPA and anxiety.\n",
    "\n",
    "Panic attack\n",
    "\n",
    "The p-value is 0.1126, higher than 0.05.\n",
    "\n",
    "Again, there is no statistically significant association between CGPA and panic attacks.\n",
    "\n",
    "Conclusion:\n",
    "Based on this dataset, students’ CGPA does not appear to be significantly associated with whether they experience depression, anxiety, or panic attacks."
   ]
  },
  {
   "cell_type": "markdown",
   "id": "a6036357",
   "metadata": {},
   "source": []
  },
  {
   "cell_type": "markdown",
   "id": "536952ea",
   "metadata": {},
   "source": [
    "Which departemnt has the highest cases of depression, anxiety and panic attacks \n",
    "This gives you a table showing how many students in each course said “Yes” to depression, anxiety, and panic attack."
   ]
  },
  {
   "cell_type": "code",
   "execution_count": 16,
   "id": "1c339a42",
   "metadata": {},
   "outputs": [],
   "source": [
    "# Count number of \"Yes\" responses for each course\n",
    "course_summary = mental_stud.groupby(\"What is your course?\")[[\"Do you have Depression?\", \n",
    "                                                         \"Do you have Anxiety?\", \n",
    "                                                         \"Do you have Panic attack?\"]].apply(lambda x: (x == \"Yes\").sum())\n"
   ]
  },
  {
   "cell_type": "markdown",
   "id": "7b841ad8",
   "metadata": {},
   "source": []
  },
  {
   "cell_type": "markdown",
   "id": "78563167",
   "metadata": {},
   "source": [
    "Find which department has the highest “Yes” for each condition"
   ]
  },
  {
   "cell_type": "code",
   "execution_count": 17,
   "id": "2eb56053",
   "metadata": {},
   "outputs": [
    {
     "name": "stdout",
     "output_type": "stream",
     "text": [
      "Department with most depression cases: ALA\n",
      "Department with most anxiety cases: ALA\n",
      "Department with most panic attack cases: ALA\n"
     ]
    }
   ],
   "source": [
    "most_depressed = course_summary[\"Do you have Depression?\"].idxmax()\n",
    "most_anxious = course_summary[\"Do you have Anxiety?\"].idxmax()\n",
    "most_panic = course_summary[\"Do you have Panic attack?\"].idxmax()\n",
    "\n",
    "print(\"Department with most depression cases:\", most_depressed)\n",
    "print(\"Department with most anxiety cases:\", most_anxious)\n",
    "print(\"Department with most panic attack cases:\", most_panic)\n"
   ]
  },
  {
   "cell_type": "markdown",
   "id": "1fdc70b0",
   "metadata": {},
   "source": [
    "The department with the most depression cases, anxiety cases and panic attacks is \"Applied Linguistics and Arts(ALA)\""
   ]
  },
  {
   "cell_type": "code",
   "execution_count": null,
   "id": "ebecc0ff",
   "metadata": {},
   "outputs": [],
   "source": [
    "\n",
    "\n",
    "\n"
   ]
  },
  {
   "cell_type": "code",
   "execution_count": null,
   "id": "d0bb596a",
   "metadata": {},
   "outputs": [],
   "source": []
  },
  {
   "cell_type": "code",
   "execution_count": null,
   "id": "38bdc25b",
   "metadata": {},
   "outputs": [],
   "source": []
  }
 ],
 "metadata": {
  "kernelspec": {
   "display_name": "Python 3 (ipykernel)",
   "language": "python",
   "name": "python3"
  },
  "language_info": {
   "codemirror_mode": {
    "name": "ipython",
    "version": 3
   },
   "file_extension": ".py",
   "mimetype": "text/x-python",
   "name": "python",
   "nbconvert_exporter": "python",
   "pygments_lexer": "ipython3",
   "version": "3.11.5"
  }
 },
 "nbformat": 4,
 "nbformat_minor": 5
}
